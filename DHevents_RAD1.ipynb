{
 "cells": [
  {
   "cell_type": "markdown",
   "metadata": {},
   "source": [
    "# 変数の情報を取得"
   ]
  },
  {
   "cell_type": "markdown",
   "metadata": {},
   "source": [
    "## 変数の名前\n"
   ]
  },
  {
   "cell_type": "code",
   "execution_count": 1,
   "metadata": {},
   "outputs": [],
   "source": [
    "# # ファイルのパス\n",
    "# file_path_1 = \"it_h1_hf_20220613_v01.cdf\""
   ]
  },
  {
   "cell_type": "code",
   "execution_count": 2,
   "metadata": {},
   "outputs": [],
   "source": [
    "# import cdflib\n",
    "\n",
    "\n",
    "\n",
    "# # CDFファイルを開く\n",
    "# cdf_file = cdflib.CDF(file_path_1)\n",
    "\n",
    "# # CDFファイルに含まれる変数の情報を取得\n",
    "# variables_info = cdf_file.cdf_info()\n",
    "\n",
    "# print(variables_info['zVariables'])"
   ]
  },
  {
   "cell_type": "markdown",
   "metadata": {},
   "source": [
    "## 変数ごとのデータを取得"
   ]
  },
  {
   "cell_type": "code",
   "execution_count": 3,
   "metadata": {},
   "outputs": [],
   "source": [
    "# import cdflib\n",
    "\n",
    "\n",
    "# def variables_show(file_path):\n",
    "#     # ファイルのパス\n",
    "#     # file_path_1 = 'hf_20220417.cdf'\n",
    "\n",
    "#     # CDFファイルを開く\n",
    "#     cdf_file = cdflib.CDF(file_path)\n",
    "\n",
    "#     # CDFファイルに含まれる変数の情報を取得\n",
    "#     variables_info = cdf_file.cdf_info()\n",
    "\n",
    "#     print(variables_info['zVariables'])\n",
    "#     print(\"\\n\")\n",
    "    \n",
    "    \n",
    "#     # var_name_show = variables_info['zVariables']\n",
    "#     for i in range(4):\n",
    "#         print(f\"Variable: {variables_info['zVariables'][i]}\")\n",
    "\n",
    "#         # # 変数の属性を取得\n",
    "#         # var_attributes = cdf_file.varattsget(variables_info['zVariables'][i])\n",
    "#         print(f\"Attributes: {cdf_file.varattsget(variables_info['zVariables'][i])}\")\n",
    "\n",
    "#         # 変数のデータを取得\n",
    "#         #var_data_show = cdf_file.varget(variables_info['zVariables'][i])\n",
    "#         # print(f\"Data: {cdf_file.varget(variables_info['zVariables'][i])}\")\n",
    "        \n",
    "#         # 変数のタイプ\n",
    "#         print(f\"Type: {type(cdf_file.varget(variables_info['zVariables'][i]))}\")\n",
    "        \n",
    "#         # 変数の次元数\n",
    "#         print(f\"Dimension: {cdf_file.varget(variables_info['zVariables'][i]).ndim}\")\n",
    "        \n",
    "#         # 変数のサイズ\n",
    "#         print(f\"Shape: {cdf_file.varget(variables_info['zVariables'][i]).shape}\")\n",
    "        \n",
    "#         # 変数の全要素数\n",
    "#         print(f\"Size: {cdf_file.varget(variables_info['zVariables'][i]).size}\")\n",
    "        \n",
    "        \n",
    "#         print(\"-----------\")\n",
    "        \n"
   ]
  },
  {
   "cell_type": "markdown",
   "metadata": {},
   "source": [
    "file1 = Iitate HF 24H Plot(2004)"
   ]
  },
  {
   "cell_type": "markdown",
   "metadata": {},
   "source": [
    "### file1"
   ]
  },
  {
   "cell_type": "code",
   "execution_count": 4,
   "metadata": {},
   "outputs": [],
   "source": [
    "# # file_path_1 = 'it_h1_hf1_20230106_v01.cdf'\n",
    "# variables_show(file_path_1)"
   ]
  },
  {
   "cell_type": "code",
   "execution_count": 5,
   "metadata": {},
   "outputs": [],
   "source": [
    "# import pytplot\n",
    "# from pytplot import data_quants"
   ]
  },
  {
   "cell_type": "code",
   "execution_count": 6,
   "metadata": {},
   "outputs": [],
   "source": [
    "# print(f\"Variable: {variables_info['zVariables'][1]}\")\n",
    "\n",
    "# # # 変数の属性を取得\n",
    "# # var_attributes = cdf_file.varattsget(variables_info['zVariables'][i])\n",
    "# print(f\"Attributes: {cdf_file.varattsget(variables_info['zVariables'][1])}\")\n",
    "\n",
    "# # 変数のデータを取得\n",
    "# var_data_show = cdf_file.varget(variables_info['zVariables'][1])\n",
    "# print(f\"Data: {cdf_file.varget(variables_info['zVariables'][1])}\")\n",
    "\n",
    "# # 変数のタイプ\n",
    "# print(f\"Type: {type(cdf_file.varget(variables_info['zVariables'][1]))}\")\n",
    "\n",
    "# # 変数の次元数\n",
    "# print(f\"Dimension: {cdf_file.varget(variables_info['zVariables'][1]).ndim}\")\n",
    "\n",
    "# # 変数のサイズ\n",
    "# print(f\"Shape: {cdf_file.varget(variables_info['zVariables'][1]).shape}\")\n",
    "\n",
    "# # 変数の全要素数\n",
    "# print(f\"Size: {cdf_file.varget(variables_info['zVariables'][1]).size}\")\n",
    "\n",
    "\n",
    "# # print(\"-----------\")"
   ]
  },
  {
   "cell_type": "code",
   "execution_count": 7,
   "metadata": {},
   "outputs": [],
   "source": [
    "# file_path_3 = \"it_h1_hf_20220417_v01 (2).cdf\"\n",
    "# variables_show(file_path_3)"
   ]
  },
  {
   "cell_type": "markdown",
   "metadata": {},
   "source": [
    "2 = single, Array"
   ]
  },
  {
   "cell_type": "code",
   "execution_count": 8,
   "metadata": {},
   "outputs": [],
   "source": [
    "# import pytplot\n",
    "# import pyspedas\n",
    "# # file_path_1 = \"it_h1_hf_20220613_v01.cdf\"\n",
    "\n",
    "# pytplot.cdf_to_tplot(file_path_1)"
   ]
  },
  {
   "cell_type": "code",
   "execution_count": 9,
   "metadata": {},
   "outputs": [],
   "source": [
    "\n",
    "# time = data_quants[\"LH\"]['time']\n",
    "# data = data_quants[\"LH\"]"
   ]
  },
  {
   "cell_type": "code",
   "execution_count": 10,
   "metadata": {},
   "outputs": [],
   "source": [
    "# data"
   ]
  },
  {
   "cell_type": "code",
   "execution_count": 11,
   "metadata": {},
   "outputs": [],
   "source": [
    "# import xarray as xr\n",
    "\n",
    "# # ここでdataは既存のxarray.DataArrayとします\n",
    "# # 例えば、data = xr.DataArray(...)\n",
    "\n",
    "# # v_dimの長さを450に変更\n",
    "# # pytplot.option(yrange)でy軸範囲を指定できなかったので，周波数のインデックス(0-899)を取得．\n",
    "# data_index = data.sel(v_dim=slice(350, 800))\n",
    "# v_dim_slice = data_quants[\"LH\"]['spec_bins'].sel(v_dim=slice(350, 800))\n",
    "\n",
    "# # 新しいデータのv_dimの長さを確認\n",
    "# data_index\n",
    "\n",
    "\n"
   ]
  },
  {
   "cell_type": "code",
   "execution_count": 12,
   "metadata": {},
   "outputs": [],
   "source": [
    "# print('\\n min_v_dim_slice =', min(v_dim_slice))\n",
    "# print('\\n max_v_dim_slice =', max(v_dim_slice))\n",
    "# print('\\n ---------------------------------- \\n')\n",
    "# print('v_dim_slice = ',v_dim_slice)"
   ]
  },
  {
   "cell_type": "markdown",
   "metadata": {},
   "source": []
  },
  {
   "cell_type": "code",
   "execution_count": 13,
   "metadata": {},
   "outputs": [],
   "source": [
    "# v = pytplot.get_data('LH')\n",
    "# v"
   ]
  },
  {
   "cell_type": "code",
   "execution_count": 14,
   "metadata": {},
   "outputs": [],
   "source": [
    "# pytplot.store_data('remake_LH', data={'x': time, 'y': data, 'v': v[2]})"
   ]
  },
  {
   "cell_type": "code",
   "execution_count": 15,
   "metadata": {},
   "outputs": [],
   "source": [
    "# pytplot.tplot_options('map_y_range', [13e6, 20e6])"
   ]
  },
  {
   "cell_type": "code",
   "execution_count": 16,
   "metadata": {},
   "outputs": [],
   "source": [
    "# pytplot.options('remake_LH', opt_dict={'ylog': 1, 'zlog': True, 'Colormap': 'jet', 'spec':1})\n",
    "# pytplot.xlim(\"2022-06-13 03:24:00\", \"2022-06-13 03:33:00\")\n",
    "# pytplot.tplot('remake_LH')"
   ]
  },
  {
   "cell_type": "code",
   "execution_count": null,
   "metadata": {},
   "outputs": [],
   "source": []
  },
  {
   "cell_type": "markdown",
   "metadata": {},
   "source": [
    "# カラープロット"
   ]
  },
  {
   "cell_type": "markdown",
   "metadata": {},
   "source": [
    "## file1"
   ]
  },
  {
   "cell_type": "code",
   "execution_count": 17,
   "metadata": {},
   "outputs": [],
   "source": [
    "# from bokeh.plotting import figure, output_notebook, show\n",
    "# output_notebook()"
   ]
  },
  {
   "cell_type": "code",
   "execution_count": 18,
   "metadata": {},
   "outputs": [],
   "source": [
    "# import pytplot\n",
    "# import pyspedas\n",
    "# import numpy as np\n",
    "\n",
    "\n",
    "# tplot_names_1 = pytplot.tplot_names(file_path_1)"
   ]
  },
  {
   "cell_type": "markdown",
   "metadata": {},
   "source": [
    "### LH"
   ]
  },
  {
   "cell_type": "markdown",
   "metadata": {},
   "source": [
    "pytplot でプロット．"
   ]
  },
  {
   "cell_type": "markdown",
   "metadata": {},
   "source": [
    "start - 2h ~ start+1h"
   ]
  },
  {
   "cell_type": "code",
   "execution_count": 19,
   "metadata": {},
   "outputs": [],
   "source": [
    "# import pytplot\n",
    "# pytplot.tplot_options('map_y_range',[2.8e7, 3.8e7])\n",
    "# pytplot.xlim(\"2022-06-13 03:24:00\", \"2022-06-13 03:33:00\")\n",
    "# # pytplot.options('LH', option='yrange', value=(1.5e7, 4e7))\n",
    "# #pytplot.options('LH', opt_dict={'yrange':[1.3e8, 4e8]})\n",
    "\n",
    "# pytplot.tplot( \"LH\")"
   ]
  },
  {
   "cell_type": "markdown",
   "metadata": {},
   "source": [
    "start ~ end +30min"
   ]
  },
  {
   "cell_type": "code",
   "execution_count": 20,
   "metadata": {},
   "outputs": [],
   "source": [
    "# import pytplot\n",
    "\n",
    "# pytplot.tlimit([\"2023-01-06 00:43:00\", \"2023-01-06 01:37:00\"])\n",
    "# pytplot.tplot(\"LH\")"
   ]
  },
  {
   "cell_type": "markdown",
   "metadata": {},
   "source": [
    "### RH"
   ]
  },
  {
   "cell_type": "markdown",
   "metadata": {},
   "source": [
    "start~end+3h"
   ]
  },
  {
   "cell_type": "code",
   "execution_count": 21,
   "metadata": {},
   "outputs": [],
   "source": [
    "# import pytplot\n",
    "\n",
    "# pytplot.tlimit([\"2023-01-06 00:43:00\", \"2023-01-06 04:07:00\"])\n",
    "# pytplot.tplot( \"RH\")"
   ]
  },
  {
   "cell_type": "markdown",
   "metadata": {},
   "source": [
    "start ~ end+30min"
   ]
  },
  {
   "cell_type": "code",
   "execution_count": 22,
   "metadata": {},
   "outputs": [],
   "source": [
    "# import pytplot\n",
    "\n",
    "# pytplot.tlimit([\"2023-01-06 00:43:00\", \"2023-01-06 01:37:00\"])\n",
    "# pytplot.tplot(\"RH\")"
   ]
  },
  {
   "cell_type": "code",
   "execution_count": null,
   "metadata": {},
   "outputs": [],
   "source": []
  },
  {
   "cell_type": "code",
   "execution_count": null,
   "metadata": {},
   "outputs": [],
   "source": [
    "\n",
    "    "
   ]
  },
  {
   "cell_type": "markdown",
   "metadata": {},
   "source": []
  },
  {
   "cell_type": "markdown",
   "metadata": {},
   "source": []
  },
  {
   "cell_type": "code",
   "execution_count": 23,
   "metadata": {},
   "outputs": [],
   "source": [
    "# import pytplot\n",
    "# from bokeh.plotting import figure, show\n",
    "\n",
    "# # Assuming you have some data already loaded into pytplot\n",
    "# # You can load sample data for testing purposes\n",
    "# pytplot.store_data('LH', data={'x': [1, 2, 3, 4], 'y': [10, 100, 1000, 10000]})\n",
    "\n",
    "# # Create a Bokeh figure with specific options\n",
    "# bokeh_options = {'title': \"LH\", 'x_axis_label': \"Time\", 'y_axis_label': \"LH\", 'width': 800, 'height': 400, 'y_axis_type': \"log\"}\n",
    "# fig = figure(**bokeh_options)\n",
    "\n",
    "# # Plot the data on the Bokeh figure\n",
    "# fig.line(pytplot.data_quants['LH']['Epoch'], pytplot.data_quants['LH']['Frequency'])\n",
    "\n",
    "# # Set the y-axis range directly in the Bokeh figure\n",
    "# fig.y_range.start = 0\n",
    "# fig.y_range.end = 1000\n",
    "\n",
    "# # Display the Bokeh plot\n",
    "# show(fig)"
   ]
  },
  {
   "cell_type": "code",
   "execution_count": null,
   "metadata": {},
   "outputs": [],
   "source": []
  },
  {
   "cell_type": "markdown",
   "metadata": {},
   "source": [
    "## プロット改良"
   ]
  },
  {
   "cell_type": "markdown",
   "metadata": {},
   "source": [
    "# RAD1"
   ]
  },
  {
   "cell_type": "code",
   "execution_count": 24,
   "metadata": {},
   "outputs": [
    {
     "data": {
      "text/plain": [
       "['PSD_V2_S', 'PSD_V2_SP', 'PSD_V2_Z']"
      ]
     },
     "execution_count": 24,
     "metadata": {},
     "output_type": "execute_result"
    }
   ],
   "source": [
    "import cdflib\n",
    "import pytplot\n",
    "from pytplot import data_quants\n",
    "import pyspedas\n",
    "import xarray as xr\n",
    "\n",
    "\n",
    "\n",
    "# ファイル名\n",
    "file_path_1 = \"wi_l2_wav_rad1_20220613_v01.cdf\"\n",
    "\n",
    "\n",
    "# CDFファイルを開く\n",
    "cdf_file = cdflib.CDF(file_path_1)\n",
    "# CDFファイルの読み込み\n",
    "pytplot.cdf_to_tplot(file_path_1)"
   ]
  },
  {
   "cell_type": "code",
   "execution_count": 33,
   "metadata": {},
   "outputs": [
    {
     "name": "stdout",
     "output_type": "stream",
     "text": [
      "['Epoch', 'FREQUENCY', 'SWEEP', 'NUM', 'RECEIVER_MODE', 'BACKGROUND_S', 'BACKGROUND_SP', 'BACKGROUND_Z', 'SENSOR_CONFIG', 'TIMING_S', 'TIMING_SP', 'TIMING_Z', 'QUALITY_FLAG', 'PSD_V2_S', 'PSD_V2_SP', 'PSD_V2_Z']\n",
      "\n",
      "\n",
      "Variable: Epoch\n",
      "Attributes: {'CATDESC': 'Epoch encoded as Terrestrial Time on rotating Earth geoid, ns since J2000', 'FIELDNAM': 'Epoch (Time)', 'FILLVAL': -9223372036854775808, 'LABLAXIS': 'epoch_hfr_radio_flux', 'UNITS': 'ns', 'VALIDMIN': 189345665184000000, 'VALIDMAX': 3155716869183000000, 'VAR_TYPE': 'support_data', 'SCALETYP': 'linear', 'MONOTON': 'INCREASE', 'TIME_BASE': 'J2000', 'TIME_SCALE': 'Terrestrial Time', 'REFERENCE_POSITION': 'Rotating Earth Geoid'}\n",
      "Data: [708350352209981485 708350398016773864 708350443823526009 ...\n",
      " 708436215607782408 708436261414534553 708436307221326931]\n",
      "Type: <class 'numpy.ndarray'>\n",
      "Dimension: 1\n",
      "Shape: (1840,)\n",
      "Size: 1840\n",
      "-----------\n",
      "Variable: FREQUENCY\n",
      "Attributes: {'CATDESC': 'Frequency channel', 'FIELDNAM': 'Frequency', 'FILLVAL': -1e+31, 'FORMAT': 'E12.2', 'LABLAXIS': 'FREQUENCY', 'UNITS': 'Hz', 'VALIDMIN': 1.0, 'VALIDMAX': 14000000.0, 'VAR_TYPE': 'support_data', 'SCALETYP': 'log'}\n",
      "Data: [ 2.0000000e+04  2.4000002e+04  2.8000002e+04  3.2000000e+04\n",
      "  3.6000000e+04  4.0000000e+04  4.4000004e+04  4.8000004e+04\n",
      "  5.2000004e+04  6.0000004e+04  7.2000000e+04  8.0000000e+04\n",
      "  9.2000008e+04  1.0400001e+05  1.1600001e+05  1.3600000e+05\n",
      "  1.5200000e+05  1.7600002e+05  1.9600002e+05  2.2400002e+05\n",
      "  2.5600000e+05  2.9200000e+05  3.3200003e+05  3.7600003e+05\n",
      "  4.2800003e+05  4.8400003e+05  5.4800000e+05  6.2400000e+05\n",
      "  7.0800006e+05  8.0400006e+05  9.1600006e+05  1.0400000e+06\n",
      " -9.9999998e+30 -9.9999998e+30 -9.9999998e+30 -9.9999998e+30\n",
      " -9.9999998e+30 -9.9999998e+30 -9.9999998e+30 -9.9999998e+30\n",
      " -9.9999998e+30 -9.9999998e+30 -9.9999998e+30 -9.9999998e+30\n",
      " -9.9999998e+30 -9.9999998e+30 -9.9999998e+30 -9.9999998e+30\n",
      " -9.9999998e+30 -9.9999998e+30 -9.9999998e+30 -9.9999998e+30\n",
      " -9.9999998e+30 -9.9999998e+30 -9.9999998e+30 -9.9999998e+30\n",
      " -9.9999998e+30 -9.9999998e+30 -9.9999998e+30 -9.9999998e+30\n",
      " -9.9999998e+30 -9.9999998e+30 -9.9999998e+30 -9.9999998e+30\n",
      " -9.9999998e+30 -9.9999998e+30 -9.9999998e+30 -9.9999998e+30\n",
      " -9.9999998e+30 -9.9999998e+30 -9.9999998e+30 -9.9999998e+30\n",
      " -9.9999998e+30 -9.9999998e+30 -9.9999998e+30 -9.9999998e+30\n",
      " -9.9999998e+30 -9.9999998e+30 -9.9999998e+30 -9.9999998e+30\n",
      " -9.9999998e+30 -9.9999998e+30 -9.9999998e+30 -9.9999998e+30\n",
      " -9.9999998e+30 -9.9999998e+30 -9.9999998e+30 -9.9999998e+30\n",
      " -9.9999998e+30 -9.9999998e+30 -9.9999998e+30 -9.9999998e+30\n",
      " -9.9999998e+30 -9.9999998e+30 -9.9999998e+30 -9.9999998e+30\n",
      " -9.9999998e+30 -9.9999998e+30 -9.9999998e+30 -9.9999998e+30\n",
      " -9.9999998e+30 -9.9999998e+30 -9.9999998e+30 -9.9999998e+30\n",
      " -9.9999998e+30 -9.9999998e+30 -9.9999998e+30 -9.9999998e+30\n",
      " -9.9999998e+30 -9.9999998e+30 -9.9999998e+30 -9.9999998e+30\n",
      " -9.9999998e+30 -9.9999998e+30 -9.9999998e+30 -9.9999998e+30\n",
      " -9.9999998e+30 -9.9999998e+30 -9.9999998e+30 -9.9999998e+30\n",
      " -9.9999998e+30 -9.9999998e+30 -9.9999998e+30 -9.9999998e+30\n",
      " -9.9999998e+30 -9.9999998e+30 -9.9999998e+30 -9.9999998e+30\n",
      " -9.9999998e+30 -9.9999998e+30 -9.9999998e+30 -9.9999998e+30\n",
      " -9.9999998e+30 -9.9999998e+30 -9.9999998e+30 -9.9999998e+30\n",
      " -9.9999998e+30 -9.9999998e+30 -9.9999998e+30 -9.9999998e+30\n",
      " -9.9999998e+30 -9.9999998e+30 -9.9999998e+30 -9.9999998e+30\n",
      " -9.9999998e+30 -9.9999998e+30 -9.9999998e+30 -9.9999998e+30\n",
      " -9.9999998e+30 -9.9999998e+30 -9.9999998e+30 -9.9999998e+30\n",
      " -9.9999998e+30 -9.9999998e+30 -9.9999998e+30 -9.9999998e+30\n",
      " -9.9999998e+30 -9.9999998e+30 -9.9999998e+30 -9.9999998e+30\n",
      " -9.9999998e+30 -9.9999998e+30 -9.9999998e+30 -9.9999998e+30\n",
      " -9.9999998e+30 -9.9999998e+30 -9.9999998e+30 -9.9999998e+30\n",
      " -9.9999998e+30 -9.9999998e+30 -9.9999998e+30 -9.9999998e+30\n",
      " -9.9999998e+30 -9.9999998e+30 -9.9999998e+30 -9.9999998e+30\n",
      " -9.9999998e+30 -9.9999998e+30 -9.9999998e+30 -9.9999998e+30\n",
      " -9.9999998e+30 -9.9999998e+30 -9.9999998e+30 -9.9999998e+30\n",
      " -9.9999998e+30 -9.9999998e+30 -9.9999998e+30 -9.9999998e+30\n",
      " -9.9999998e+30 -9.9999998e+30 -9.9999998e+30 -9.9999998e+30\n",
      " -9.9999998e+30 -9.9999998e+30 -9.9999998e+30 -9.9999998e+30\n",
      " -9.9999998e+30 -9.9999998e+30 -9.9999998e+30 -9.9999998e+30\n",
      " -9.9999998e+30 -9.9999998e+30 -9.9999998e+30 -9.9999998e+30\n",
      " -9.9999998e+30 -9.9999998e+30 -9.9999998e+30 -9.9999998e+30\n",
      " -9.9999998e+30 -9.9999998e+30 -9.9999998e+30 -9.9999998e+30\n",
      " -9.9999998e+30 -9.9999998e+30 -9.9999998e+30 -9.9999998e+30\n",
      " -9.9999998e+30 -9.9999998e+30 -9.9999998e+30 -9.9999998e+30\n",
      " -9.9999998e+30 -9.9999998e+30 -9.9999998e+30 -9.9999998e+30\n",
      " -9.9999998e+30 -9.9999998e+30 -9.9999998e+30 -9.9999998e+30\n",
      " -9.9999998e+30 -9.9999998e+30 -9.9999998e+30 -9.9999998e+30\n",
      " -9.9999998e+30 -9.9999998e+30 -9.9999998e+30 -9.9999998e+30\n",
      " -9.9999998e+30 -9.9999998e+30 -9.9999998e+30 -9.9999998e+30\n",
      " -9.9999998e+30 -9.9999998e+30 -9.9999998e+30 -9.9999998e+30\n",
      " -9.9999998e+30 -9.9999998e+30 -9.9999998e+30 -9.9999998e+30\n",
      " -9.9999998e+30 -9.9999998e+30 -9.9999998e+30 -9.9999998e+30\n",
      " -9.9999998e+30 -9.9999998e+30 -9.9999998e+30 -9.9999998e+30]\n",
      "Type: <class 'numpy.ndarray'>\n",
      "Dimension: 1\n",
      "Shape: (256,)\n",
      "Size: 256\n",
      "-----------\n",
      "Variable: SWEEP\n",
      "Attributes: {'CATDESC': 'Sequential sweep number', 'DEPEND_0': 'Epoch', 'FIELDNAM': 'Sequential sweep number in the file', 'FILLVAL': 65535, 'FORMAT': 'I5', 'LABLAXIS': 'SWEEP', 'UNITS': ' ', 'VALIDMIN': 1, 'VALIDMAX': 65534, 'VAR_TYPE': 'support_data', 'SCALETYP': 'linear'}\n",
      "Data: [  1   1   1 ... 465 465 465]\n",
      "Type: <class 'numpy.ndarray'>\n",
      "Dimension: 1\n",
      "Shape: (1840,)\n",
      "Size: 1840\n",
      "-----------\n",
      "Variable: NUM\n",
      "Attributes: {'CATDESC': 'Sequential number in parent L2 data file', 'DEPEND_0': 'Epoch', 'DEPEND_1': 'FREQUENCY', 'FIELDNAM': 'Sequential number in parent L2 data file', 'FILLVAL': 4294967295, 'FORMAT': 'I11', 'LABLAXIS': 'NUM', 'UNITS': ' ', 'VALIDMIN': 0, 'VALIDMAX': 4294967293, 'VAR_TYPE': 'support_data', 'SCALETYP': 'linear'}\n",
      "Data: [[       505        249        380 ... 4294967295 4294967295 4294967295]\n",
      " [       505        249        380 ... 4294967295 4294967295 4294967295]\n",
      " [       505        249        380 ... 4294967295 4294967295 4294967295]\n",
      " ...\n",
      " [    237257     237002     237131 ... 4294967295 4294967295 4294967295]\n",
      " [    237257     237002     237131 ... 4294967295 4294967295 4294967295]\n",
      " [    237257     237002     237131 ... 4294967295 4294967295 4294967295]]\n",
      "Type: <class 'numpy.ndarray'>\n",
      "Dimension: 2\n",
      "Shape: (1840, 256)\n",
      "Size: 471040\n",
      "-----------\n",
      "Variable: RECEIVER_MODE\n",
      "Attributes: {'CATDESC': 'Receiver mode status (0==Error, 1==Freeze, 2==Linear sweep, 3=LIST)', 'DEPEND_0': 'Epoch', 'DEPEND_1': 'FREQUENCY', 'FIELDNAM': 'Receiver Mode', 'FILLVAL': 255, 'FORMAT': 'I3', 'LABLAXIS': 'RECEIVER_CODE', 'UNITS': ' ', 'VALIDMIN': 0, 'VALIDMAX': 3, 'VAR_TYPE': 'support_data', 'SCALETYP': 'linear'}\n",
      "Data: [[  1   1   1 ... 255 255 255]\n",
      " [  1   1   1 ... 255 255 255]\n",
      " [  1   1   1 ... 255 255 255]\n",
      " ...\n",
      " [  1   1   1 ... 255 255 255]\n",
      " [  1   1   1 ... 255 255 255]\n",
      " [  1   1   1 ... 255 255 255]]\n",
      "Type: <class 'numpy.ndarray'>\n",
      "Dimension: 2\n",
      "Shape: (1840, 256)\n",
      "Size: 471040\n",
      "-----------\n",
      "Variable: BACKGROUND_S\n",
      "Attributes: {'CATDESC': '1% receiver background of each frequency bin (S antenna)', 'FIELDNAM': 'Receiver Background', 'FILLVAL': -1e+31, 'FORMAT': 'E12.2', 'LABLAXIS': 'BACKGROUND_S', 'UNITS': 'V^2/Hz', 'VALIDMIN': 0.0, 'VALIDMAX': 1.0, 'VAR_TYPE': 'support_data', 'SCALETYP': 'log'}\n",
      "Data: [1.18872794e-13 1.00050353e-13 9.26639882e-14 8.26151078e-14\n",
      " 6.60942723e-14 5.77995768e-14 4.82493040e-14 3.82238017e-14\n",
      " 6.00324708e-14 2.47975163e-14 1.82248896e-14 1.44429570e-14\n",
      " 1.16281987e-14 9.41984578e-15 7.73315755e-15 5.86768225e-15\n",
      " 9.51271871e-15 3.98712130e-15 3.76674196e-15 3.25836168e-15\n",
      " 2.97461899e-15 2.81936886e-15 2.59676839e-15 2.79748873e-15\n",
      " 3.04711971e-15 3.70609144e-15 4.74824563e-15 5.64965809e-15\n",
      " 7.05233025e-15 8.91547493e-15 1.13920722e-14 1.29473585e-14\n",
      "            nan            nan            nan            nan\n",
      "            nan            nan            nan            nan\n",
      "            nan            nan            nan            nan\n",
      "            nan            nan            nan            nan\n",
      "            nan            nan            nan            nan\n",
      "            nan            nan            nan            nan\n",
      "            nan            nan            nan            nan\n",
      "            nan            nan            nan            nan\n",
      "            nan            nan            nan            nan\n",
      "            nan            nan            nan            nan\n",
      "            nan            nan            nan            nan\n",
      "            nan            nan            nan            nan\n",
      "            nan            nan            nan            nan\n",
      "            nan            nan            nan            nan\n",
      "            nan            nan            nan            nan\n",
      "            nan            nan            nan            nan\n",
      "            nan            nan            nan            nan\n",
      "            nan            nan            nan            nan\n",
      "            nan            nan            nan            nan\n",
      "            nan            nan            nan            nan\n",
      "            nan            nan            nan            nan\n",
      "            nan            nan            nan            nan\n",
      "            nan            nan            nan            nan\n",
      "            nan            nan            nan            nan\n",
      "            nan            nan            nan            nan\n",
      "            nan            nan            nan            nan\n",
      "            nan            nan            nan            nan\n",
      "            nan            nan            nan            nan\n",
      "            nan            nan            nan            nan\n",
      "            nan            nan            nan            nan\n",
      "            nan            nan            nan            nan\n",
      "            nan            nan            nan            nan\n",
      "            nan            nan            nan            nan\n",
      "            nan            nan            nan            nan\n",
      "            nan            nan            nan            nan\n",
      "            nan            nan            nan            nan\n",
      "            nan            nan            nan            nan\n",
      "            nan            nan            nan            nan\n",
      "            nan            nan            nan            nan\n",
      "            nan            nan            nan            nan\n",
      "            nan            nan            nan            nan\n",
      "            nan            nan            nan            nan\n",
      "            nan            nan            nan            nan\n",
      "            nan            nan            nan            nan\n",
      "            nan            nan            nan            nan\n",
      "            nan            nan            nan            nan\n",
      "            nan            nan            nan            nan\n",
      "            nan            nan            nan            nan\n",
      "            nan            nan            nan            nan\n",
      "            nan            nan            nan            nan\n",
      "            nan            nan            nan            nan\n",
      "            nan            nan            nan            nan\n",
      "            nan            nan            nan            nan\n",
      "            nan            nan            nan            nan\n",
      "            nan            nan            nan            nan\n",
      "            nan            nan            nan            nan]\n",
      "Type: <class 'numpy.ndarray'>\n",
      "Dimension: 1\n",
      "Shape: (256,)\n",
      "Size: 256\n",
      "-----------\n",
      "Variable: BACKGROUND_SP\n",
      "Attributes: {'CATDESC': '1% receiver background of each frequency bin (SP antenna)', 'FIELDNAM': 'Receiver Background', 'FILLVAL': -1e+31, 'FORMAT': 'E12.2', 'LABLAXIS': 'BACKGROUND_S', 'UNITS': 'V^2/Hz', 'VALIDMIN': 0.0, 'VALIDMAX': 1.0, 'VAR_TYPE': 'support_data', 'SCALETYP': 'log'}\n",
      "Data: [1.92050979e-13 1.31480994e-13 1.06226808e-13 7.21134510e-14\n",
      " 6.17660626e-14 5.05029808e-14 3.94590570e-14 3.13109422e-14\n",
      " 4.58013889e-14 1.79043893e-14 1.24149170e-14 1.05295826e-14\n",
      " 8.00870414e-15 6.52610044e-15 5.39068412e-15 4.13035711e-15\n",
      " 7.02845070e-15 2.85109638e-15 2.56080782e-15 2.23478611e-15\n",
      " 2.16351612e-15 2.05867906e-15 2.10844860e-15 2.51743867e-15\n",
      " 2.59993756e-15 3.32647499e-15 4.25120796e-15 5.34010312e-15\n",
      " 6.65808385e-15 8.91547493e-15 1.07313535e-14 1.29473585e-14\n",
      "            nan            nan            nan            nan\n",
      "            nan            nan            nan            nan\n",
      "            nan            nan            nan            nan\n",
      "            nan            nan            nan            nan\n",
      "            nan            nan            nan            nan\n",
      "            nan            nan            nan            nan\n",
      "            nan            nan            nan            nan\n",
      "            nan            nan            nan            nan\n",
      "            nan            nan            nan            nan\n",
      "            nan            nan            nan            nan\n",
      "            nan            nan            nan            nan\n",
      "            nan            nan            nan            nan\n",
      "            nan            nan            nan            nan\n",
      "            nan            nan            nan            nan\n",
      "            nan            nan            nan            nan\n",
      "            nan            nan            nan            nan\n",
      "            nan            nan            nan            nan\n",
      "            nan            nan            nan            nan\n",
      "            nan            nan            nan            nan\n",
      "            nan            nan            nan            nan\n",
      "            nan            nan            nan            nan\n",
      "            nan            nan            nan            nan\n",
      "            nan            nan            nan            nan\n",
      "            nan            nan            nan            nan\n",
      "            nan            nan            nan            nan\n",
      "            nan            nan            nan            nan\n",
      "            nan            nan            nan            nan\n",
      "            nan            nan            nan            nan\n",
      "            nan            nan            nan            nan\n",
      "            nan            nan            nan            nan\n",
      "            nan            nan            nan            nan\n",
      "            nan            nan            nan            nan\n",
      "            nan            nan            nan            nan\n",
      "            nan            nan            nan            nan\n",
      "            nan            nan            nan            nan\n",
      "            nan            nan            nan            nan\n",
      "            nan            nan            nan            nan\n",
      "            nan            nan            nan            nan\n",
      "            nan            nan            nan            nan\n",
      "            nan            nan            nan            nan\n",
      "            nan            nan            nan            nan\n",
      "            nan            nan            nan            nan\n",
      "            nan            nan            nan            nan\n",
      "            nan            nan            nan            nan\n",
      "            nan            nan            nan            nan\n",
      "            nan            nan            nan            nan\n",
      "            nan            nan            nan            nan\n",
      "            nan            nan            nan            nan\n",
      "            nan            nan            nan            nan\n",
      "            nan            nan            nan            nan\n",
      "            nan            nan            nan            nan\n",
      "            nan            nan            nan            nan\n",
      "            nan            nan            nan            nan\n",
      "            nan            nan            nan            nan\n",
      "            nan            nan            nan            nan\n",
      "            nan            nan            nan            nan]\n",
      "Type: <class 'numpy.ndarray'>\n",
      "Dimension: 1\n",
      "Shape: (256,)\n",
      "Size: 256\n",
      "-----------\n",
      "Variable: BACKGROUND_Z\n",
      "Attributes: {'CATDESC': '1% receiver background of each frequency bin (Z antenna)', 'FIELDNAM': 'Receiver Background', 'FILLVAL': -1e+31, 'FORMAT': 'E12.2', 'LABLAXIS': 'BACKGROUND_S', 'UNITS': 'V^2/Hz', 'VALIDMIN': 0.0, 'VALIDMAX': 1.0, 'VAR_TYPE': 'support_data', 'SCALETYP': 'log'}\n",
      "Data: [1.1418128e-14 7.6448950e-15 6.5558338e-15 4.3038862e-15 4.0279906e-15\n",
      " 3.1699350e-15 2.6909970e-15 2.3236128e-15 3.5561886e-15 1.5790450e-15\n",
      " 1.1337864e-15 9.8566747e-16 7.4678310e-16 6.4092061e-16 5.2138213e-16\n",
      " 4.2126350e-16 8.6667172e-16 5.9552917e-16 2.9108449e-16 2.3240586e-16\n",
      " 2.1301568e-16 1.9573714e-16 1.8070281e-16 1.8680851e-16 1.7110722e-16\n",
      " 1.8162164e-16 1.9885364e-16 1.9796457e-16 2.1019660e-16 2.3839144e-16\n",
      " 2.4257314e-16 2.5531836e-16           nan           nan           nan\n",
      "           nan           nan           nan           nan           nan\n",
      "           nan           nan           nan           nan           nan\n",
      "           nan           nan           nan           nan           nan\n",
      "           nan           nan           nan           nan           nan\n",
      "           nan           nan           nan           nan           nan\n",
      "           nan           nan           nan           nan           nan\n",
      "           nan           nan           nan           nan           nan\n",
      "           nan           nan           nan           nan           nan\n",
      "           nan           nan           nan           nan           nan\n",
      "           nan           nan           nan           nan           nan\n",
      "           nan           nan           nan           nan           nan\n",
      "           nan           nan           nan           nan           nan\n",
      "           nan           nan           nan           nan           nan\n",
      "           nan           nan           nan           nan           nan\n",
      "           nan           nan           nan           nan           nan\n",
      "           nan           nan           nan           nan           nan\n",
      "           nan           nan           nan           nan           nan\n",
      "           nan           nan           nan           nan           nan\n",
      "           nan           nan           nan           nan           nan\n",
      "           nan           nan           nan           nan           nan\n",
      "           nan           nan           nan           nan           nan\n",
      "           nan           nan           nan           nan           nan\n",
      "           nan           nan           nan           nan           nan\n",
      "           nan           nan           nan           nan           nan\n",
      "           nan           nan           nan           nan           nan\n",
      "           nan           nan           nan           nan           nan\n",
      "           nan           nan           nan           nan           nan\n",
      "           nan           nan           nan           nan           nan\n",
      "           nan           nan           nan           nan           nan\n",
      "           nan           nan           nan           nan           nan\n",
      "           nan           nan           nan           nan           nan\n",
      "           nan           nan           nan           nan           nan\n",
      "           nan           nan           nan           nan           nan\n",
      "           nan           nan           nan           nan           nan\n",
      "           nan           nan           nan           nan           nan\n",
      "           nan           nan           nan           nan           nan\n",
      "           nan           nan           nan           nan           nan\n",
      "           nan           nan           nan           nan           nan\n",
      "           nan           nan           nan           nan           nan\n",
      "           nan           nan           nan           nan           nan\n",
      "           nan           nan           nan           nan           nan\n",
      "           nan           nan           nan           nan           nan\n",
      "           nan           nan           nan           nan           nan\n",
      "           nan           nan           nan           nan           nan\n",
      "           nan]\n",
      "Type: <class 'numpy.ndarray'>\n",
      "Dimension: 1\n",
      "Shape: (256,)\n",
      "Size: 256\n",
      "-----------\n",
      "Variable: SENSOR_CONFIG\n",
      "Attributes: {'CATDESC': 'Antenna mode index\\nSUM mode is 2, SEP is 1 and 0 is undetermined mode', 'DEPEND_0': 'Epoch', 'DEPEND_1': 'FREQUENCY', 'FIELDNAM': 'Antenna Configuration', 'FILLVAL': 255, 'FORMAT': 'I1', 'LABLAXIS': 'SENSOR_CONFIG', 'UNITS': ' ', 'VALIDMIN': 0, 'VALIDMAX': 2, 'VAR_TYPE': 'support_data', 'SCALETYP': 'linear'}\n",
      "Data: [[  2   2   2 ... 255 255 255]\n",
      " [  2   2   2 ... 255 255 255]\n",
      " [  2   2   2 ... 255 255 255]\n",
      " ...\n",
      " [  2   2   2 ... 255 255 255]\n",
      " [  2   2   2 ... 255 255 255]\n",
      " [  2   2   2 ... 255 255 255]]\n",
      "Type: <class 'numpy.ndarray'>\n",
      "Dimension: 2\n",
      "Shape: (1840, 256)\n",
      "Size: 471040\n",
      "-----------\n",
      "Variable: TIMING_S\n",
      "Attributes: {'CATDESC': 'Temporal offset of each antenna channel configuration (S antenna)', 'DEPEND_0': 'Epoch', 'DEPEND_1': 'FREQUENCY', 'FIELDNAM': 'Time Offset', 'FILLVAL': -1e+31, 'FORMAT': 'E12.2', 'LABLAXIS': 'Time Offset', 'UNITS': 's', 'VALIDMIN': -1000.0, 'VALIDMAX': 1000.0, 'VAR_TYPE': 'support_data', 'SCALETYP': 'linear'}\n",
      "Data: [[180.36418    88.75063   134.55739   ...         nan         nan\n",
      "          nan]\n",
      " [134.55739    42.943844   88.750595  ...         nan         nan\n",
      "          nan]\n",
      " [ 88.75063    -2.8629093  42.943844  ...         nan         nan\n",
      "          nan]\n",
      " ...\n",
      " [134.55739    42.943844   88.750595  ...         nan         nan\n",
      "          nan]\n",
      " [ 88.75063    -2.8629093  42.943844  ...         nan         nan\n",
      "          nan]\n",
      " [ 42.943844  -48.6697     -2.8629496 ...         nan         nan\n",
      "          nan]]\n",
      "Type: <class 'numpy.ndarray'>\n",
      "Dimension: 2\n",
      "Shape: (1840, 256)\n",
      "Size: 471040\n",
      "-----------\n",
      "Variable: TIMING_SP\n",
      "Attributes: {'CATDESC': 'Temporal offset of each antenna channel configuration (SP antenna)', 'DEPEND_0': 'Epoch', 'DEPEND_1': 'FREQUENCY', 'FIELDNAM': 'Time Offset', 'FILLVAL': -1e+31, 'FORMAT': 'E12.2', 'LABLAXIS': 'Time Offset', 'UNITS': 's', 'VALIDMIN': -1000.0, 'VALIDMAX': 1000.0, 'VAR_TYPE': 'support_data', 'SCALETYP': 'linear'}\n",
      "Data: [[180.51811    88.904564  134.71136   ...         nan         nan\n",
      "          nan]\n",
      " [134.71132    43.097775   88.904564  ...         nan         nan\n",
      "          nan]\n",
      " [ 88.904564   -2.7089775  43.097816  ...         nan         nan\n",
      "          nan]\n",
      " ...\n",
      " [134.71132    43.097775   88.904564  ...         nan         nan\n",
      "          nan]\n",
      " [ 88.904564   -2.7089775  43.097816  ...         nan         nan\n",
      "          nan]\n",
      " [ 43.097775  -48.51577    -2.7089775 ...         nan         nan\n",
      "          nan]]\n",
      "Type: <class 'numpy.ndarray'>\n",
      "Dimension: 2\n",
      "Shape: (1840, 256)\n",
      "Size: 471040\n",
      "-----------\n",
      "Variable: TIMING_Z\n",
      "Attributes: {'CATDESC': 'Temporal offset of each antenna channel configuration (Z antenna)', 'DEPEND_0': 'Epoch', 'DEPEND_1': 'FREQUENCY', 'FIELDNAM': 'Time Offset', 'FILLVAL': -1e+31, 'FORMAT': 'E12.2', 'LABLAXIS': 'Time Offset', 'UNITS': 's', 'VALIDMIN': -1000.0, 'VALIDMAX': 1000.0, 'VAR_TYPE': 'support_data', 'SCALETYP': 'linear'}\n",
      "Data: [[180.44115    88.8276    134.6344    ...         nan         nan\n",
      "          nan]\n",
      " [134.63435    43.02081    88.8276    ...         nan         nan\n",
      "          nan]\n",
      " [ 88.8276     -2.7859435  43.020847  ...         nan         nan\n",
      "          nan]\n",
      " ...\n",
      " [134.63435    43.02081    88.8276    ...         nan         nan\n",
      "          nan]\n",
      " [ 88.8276     -2.7859435  43.020847  ...         nan         nan\n",
      "          nan]\n",
      " [ 43.02081   -48.592735   -2.7859435 ...         nan         nan\n",
      "          nan]]\n",
      "Type: <class 'numpy.ndarray'>\n",
      "Dimension: 2\n",
      "Shape: (1840, 256)\n",
      "Size: 471040\n",
      "-----------\n",
      "Variable: QUALITY_FLAG\n",
      "Attributes: {'CATDESC': 'High level information about the quality of the electric field measurements', 'DEPEND_0': 'Epoch', 'FIELDNAM': 'Quality Flag', 'FILLVAL': 255, 'FORMAT': 'I3', 'LABLAXIS': 'QUALITY_FLAG', 'UNITS': ' ', 'VALIDMIN': 0, 'VALIDMAX': 4, 'VAR_TYPE': 'support_data', 'SCALETYP': 'linear', 'VAR_NOTES': 'All flags are encoded as follows:\\n--------------------------\\nQUALITY_FLAG = 0, bad data\\nQUALITY_FLAG = 1, known problems use at your own risk\\nQUALITY_FLAG = 2, survey data, possibly not publication quality\\nQUALITY_FLAG = 3, good for publication subject to PI approval\\nQUALITY_FLAG = 4, Excellent data which has received special treatment'}\n",
      "Data: [3 3 3 ... 3 3 3]\n",
      "Type: <class 'numpy.ndarray'>\n",
      "Dimension: 1\n",
      "Shape: (1840,)\n",
      "Size: 1840\n",
      "-----------\n",
      "Variable: PSD_V2_S\n",
      "Attributes: {'CATDESC': 'Power spectral density before antenna calibration (S antenna)', 'DEPEND_0': 'Epoch', 'DEPEND_1': 'FREQUENCY', 'DISPLAY_TYPE': 'spectrogram', 'FIELDNAM': 'Power Spectral Density', 'FILLVAL': -1e+31, 'FORMAT': 'E12.2', 'LABLAXIS': 'PSD_V2_S', 'UNITS': 'V^2/Hz', 'VALIDMIN': 0.0, 'VALIDMAX': 1.0, 'VAR_TYPE': 'data', 'SCALETYP': 'log'}\n",
      "Data: [[1.4586889e-13 1.4082957e-13 1.3053474e-13 ...           nan\n",
      "            nan           nan]\n",
      " [1.4586889e-13 1.4082957e-13 1.3053474e-13 ...           nan\n",
      "            nan           nan]\n",
      " [1.4586889e-13 1.4082957e-13 1.3053474e-13 ...           nan\n",
      "            nan           nan]\n",
      " ...\n",
      " [1.3622805e-13 1.8563829e-13 7.6188377e-13 ...           nan\n",
      "            nan           nan]\n",
      " [1.3622805e-13 1.8563829e-13 7.6188377e-13 ...           nan\n",
      "            nan           nan]\n",
      " [1.3622805e-13 1.8563829e-13 7.6188377e-13 ...           nan\n",
      "            nan           nan]]\n",
      "Type: <class 'numpy.ndarray'>\n",
      "Dimension: 2\n",
      "Shape: (1840, 256)\n",
      "Size: 471040\n",
      "-----------\n",
      "Variable: PSD_V2_SP\n",
      "Attributes: {'CATDESC': 'Power spectral density before antenna calibration (SP antenna)', 'DEPEND_0': 'Epoch', 'DEPEND_1': 'FREQUENCY', 'DISPLAY_TYPE': 'spectrogram', 'FIELDNAM': 'Power Spectral Density', 'FILLVAL': -1e+31, 'FORMAT': 'E12.2', 'LABLAXIS': 'PSD_V2_SP', 'UNITS': 'V^2/Hz', 'VALIDMIN': 0.0, 'VALIDMAX': 1.0, 'VAR_TYPE': 'data', 'SCALETYP': 'log'}\n",
      "Data: [[2.0579863e-13 1.8563829e-13 1.2185102e-13 ...           nan\n",
      "            nan           nan]\n",
      " [2.0579863e-13 1.8563829e-13 1.2185102e-13 ...           nan\n",
      "            nan           nan]\n",
      " [2.0579863e-13 1.8563829e-13 1.2185102e-13 ...           nan\n",
      "            nan           nan]\n",
      " ...\n",
      " [1.9205098e-13 3.7395561e-13 7.0898317e-13 ...           nan\n",
      "            nan           nan]\n",
      " [1.9205098e-13 3.7395561e-13 7.0898317e-13 ...           nan\n",
      "            nan           nan]\n",
      " [1.9205098e-13 3.7395561e-13 7.0898317e-13 ...           nan\n",
      "            nan           nan]]\n",
      "Type: <class 'numpy.ndarray'>\n",
      "Dimension: 2\n",
      "Shape: (1840, 256)\n",
      "Size: 471040\n",
      "-----------\n",
      "Variable: PSD_V2_Z\n",
      "Attributes: {'CATDESC': 'Power spectral density before antenna calibration (Z antenna)', 'DEPEND_0': 'Epoch', 'DEPEND_1': 'FREQUENCY', 'DISPLAY_TYPE': 'spectrogram', 'FIELDNAM': 'Power Spectral Density', 'FILLVAL': -1e+31, 'FORMAT': 'E12.2', 'LABLAXIS': 'PSD_V2_SP', 'UNITS': 'V^2/Hz', 'VALIDMIN': 0.0, 'VALIDMAX': 1.0, 'VAR_TYPE': 'data', 'SCALETYP': 'log'}\n",
      "Data: [[1.30119795e-14 9.28648553e-15 7.46209853e-15 ...            nan\n",
      "             nan            nan]\n",
      " [1.30119795e-14 9.28648553e-15 7.46209853e-15 ...            nan\n",
      "             nan            nan]\n",
      " [1.30119795e-14 9.28648553e-15 7.46209853e-15 ...            nan\n",
      "             nan            nan]\n",
      " ...\n",
      " [1.30119795e-14 1.05827805e-14 1.18124767e-14 ...            nan\n",
      "             nan            nan]\n",
      " [1.30119795e-14 1.05827805e-14 1.18124767e-14 ...            nan\n",
      "             nan            nan]\n",
      " [1.30119795e-14 1.05827805e-14 1.18124767e-14 ...            nan\n",
      "             nan            nan]]\n",
      "Type: <class 'numpy.ndarray'>\n",
      "Dimension: 2\n",
      "Shape: (1840, 256)\n",
      "Size: 471040\n",
      "-----------\n"
     ]
    }
   ],
   "source": [
    "# def variables_show(file_path):\n",
    "#     # ファイルのパス\n",
    "#     # file_path_1 = 'hf_20220417.cdf'\n",
    "\n",
    "#     # CDFファイルを開く\n",
    "#     cdf_file = cdflib.CDF(file_path_1)\n",
    "\n",
    "#     # CDFファイルに含まれる変数の情報を取得\n",
    "#     variables_info = cdf_file.cdf_info()\n",
    "\n",
    "#     print(variables_info['zVariables'])\n",
    "#     print(\"\\n\")\n",
    "    \n",
    "    \n",
    "#     # var_name_show = variables_info['zVariables']\n",
    "#     for i in range(len(variables_info['zVariables'])):\n",
    "#         print(f\"Variable: {variables_info['zVariables'][i]}\")\n",
    "\n",
    "#         # # 変数の属性を取得\n",
    "#         var_attributes = cdf_file.varattsget(variables_info['zVariables'][i])\n",
    "#         print(f\"Attributes: {cdf_file.varattsget(variables_info['zVariables'][i])}\")\n",
    "\n",
    "#         # 変数のデータを取得\n",
    "#         var_data_show = cdf_file.varget(variables_info['zVariables'][i])\n",
    "#         print(f\"Data: {cdf_file.varget(variables_info['zVariables'][i])}\")\n",
    "        \n",
    "#         # 変数のタイプ\n",
    "#         print(f\"Type: {type(cdf_file.varget(variables_info['zVariables'][i]))}\")\n",
    "        \n",
    "#         # 変数の次元数\n",
    "#         print(f\"Dimension: {cdf_file.varget(variables_info['zVariables'][i]).ndim}\")\n",
    "        \n",
    "#         # 変数のサイズ\n",
    "#         print(f\"Shape: {cdf_file.varget(variables_info['zVariables'][i]).shape}\")\n",
    "        \n",
    "#         # 変数の全要素数\n",
    "#         print(f\"Size: {cdf_file.varget(variables_info['zVariables'][i]).size}\")\n",
    "        \n",
    "        \n",
    "#         print(\"-----------\")\n",
    "        \n",
    "# variables_show(\"wi_l2_wav_rad1_20220613_v01.cdf\")"
   ]
  },
  {
   "cell_type": "code",
   "execution_count": 31,
   "metadata": {},
   "outputs": [
    {
     "data": {
      "text/plain": [
       "{'CATDESC': '1% receiver background of each frequency bin (S antenna)',\n",
       " 'FIELDNAM': 'Receiver Background',\n",
       " 'FILLVAL': -1e+31,\n",
       " 'FORMAT': 'E12.2',\n",
       " 'LABLAXIS': 'BACKGROUND_S',\n",
       " 'UNITS': 'V^2/Hz',\n",
       " 'VALIDMIN': 0.0,\n",
       " 'VALIDMAX': 1.0,\n",
       " 'VAR_TYPE': 'support_data',\n",
       " 'SCALETYP': 'log'}"
      ]
     },
     "execution_count": 31,
     "metadata": {},
     "output_type": "execute_result"
    }
   ],
   "source": [
    "cdf_file.varattsget(cdf_file.cdf_info()['zVariables'][5])"
   ]
  },
  {
   "cell_type": "code",
   "execution_count": 26,
   "metadata": {},
   "outputs": [],
   "source": [
    "# data_quants[\"PSD_V2_S\"]['spec_bins']"
   ]
  },
  {
   "cell_type": "code",
   "execution_count": 27,
   "metadata": {},
   "outputs": [],
   "source": [
    "# data_quants['PSD_V2_S']"
   ]
  },
  {
   "cell_type": "markdown",
   "metadata": {},
   "source": [
    "        0 : 2.0000000e+04,  1 : 2.4000002e+04,  2 : 2.8000002e+04,  3 : 3.2000000e+04,\n",
    "        4 : 3.6000000e+04,  5 : 4.0000000e+04,  6 : 4.4000004e+04,  7 : 4.8000004e+04,\n",
    "        8 : 5.2000004e+04,  9 : 6.0000004e+04,  10 : 7.2000000e+04,  11 : 8.0000000e+04,\n",
    "        12 : 9.2000008e+04,  13 : 1.0400001e+05,  14 : 1.1600001e+05,  15 : 1.3600000e+05,\n",
    "        16 : 1.5200000e+05,  17 : 1.7600002e+05,  18 : 1.9600002e+05,  19 : 2.2400002e+05,\n",
    "        20 : 2.5600000e+05,  21 : 2.9200000e+05,  22 : 3.3200003e+05,  23 : 3.7600003e+05,\n",
    "        24 : 4.2800003e+05,  25 : 4.8400003e+05,  26 : 5.4800000e+05,  27 : 6.2400000e+05,\n",
    "        28 : 7.0800006e+05,  29 : 8.0400006e+05,  30 : 9.1600006e+05,  31 : 1.0400000e+06 ])"
   ]
  },
  {
   "cell_type": "code",
   "execution_count": 28,
   "metadata": {},
   "outputs": [
    {
     "name": "stdout",
     "output_type": "stream",
     "text": [
      "<xarray.DataArray 'spec_bins' (v_dim: 32)>\n",
      "array([  20000.   ,   24000.002,   28000.002,   32000.   ,   36000.   ,\n",
      "         40000.   ,   44000.004,   48000.004,   52000.004,   60000.004,\n",
      "         72000.   ,   80000.   ,   92000.01 ,  104000.01 ,  116000.01 ,\n",
      "        136000.   ,  152000.   ,  176000.02 ,  196000.02 ,  224000.02 ,\n",
      "        256000.   ,  292000.   ,  332000.03 ,  376000.03 ,  428000.03 ,\n",
      "        484000.03 ,  548000.   ,  624000.   ,  708000.06 ,  804000.06 ,\n",
      "        916000.06 , 1040000.   ], dtype=float32)\n",
      "Coordinates:\n",
      "    spec_bins  (v_dim) float32 2e+04 2.4e+04 2.8e+04 ... 9.16e+05 1.04e+06\n",
      "    v          (v_dim) float32 2e+04 2.4e+04 2.8e+04 ... 9.16e+05 1.04e+06\n",
      "Dimensions without coordinates: v_dim\n"
     ]
    }
   ],
   "source": [
    "# スライシングによるデータのカット\n",
    "frequency_cut = data_quants[\"PSD_V2_S\"]['spec_bins'].sel(v_dim=slice(0, 32))\n",
    "print(frequency_cut)"
   ]
  },
  {
   "cell_type": "code",
   "execution_count": 29,
   "metadata": {},
   "outputs": [
    {
     "ename": "ValueError",
     "evalue": "invalid literal for int() with base 10: ''",
     "output_type": "error",
     "traceback": [
      "\u001b[0;31m---------------------------------------------------------------------------\u001b[0m",
      "\u001b[0;31mValueError\u001b[0m                                Traceback (most recent call last)",
      "\u001b[0;32m/tmp/ipykernel_100572/1036847380.py\u001b[0m in \u001b[0;36m<module>\u001b[0;34m\u001b[0m\n\u001b[1;32m      9\u001b[0m \u001b[0;31m# v_dim(電波強度の次元)の長さを変更\u001b[0m\u001b[0;34m\u001b[0m\u001b[0;34m\u001b[0m\u001b[0m\n\u001b[1;32m     10\u001b[0m \u001b[0;31m# pytplot.option(yrange)でy軸範囲を指定できなかったので，周波数のインデックス(0-899)を取得．\u001b[0m\u001b[0;34m\u001b[0m\u001b[0;34m\u001b[0m\u001b[0m\n\u001b[0;32m---> 11\u001b[0;31m \u001b[0mn_min\u001b[0m \u001b[0;34m=\u001b[0m \u001b[0mint\u001b[0m\u001b[0;34m(\u001b[0m\u001b[0minput\u001b[0m\u001b[0;34m(\u001b[0m\u001b[0;34m\"n_min = \"\u001b[0m\u001b[0;34m)\u001b[0m\u001b[0;34m)\u001b[0m\u001b[0;34m\u001b[0m\u001b[0;34m\u001b[0m\u001b[0m\n\u001b[0m\u001b[1;32m     12\u001b[0m \u001b[0mn_max\u001b[0m \u001b[0;34m=\u001b[0m \u001b[0mint\u001b[0m\u001b[0;34m(\u001b[0m\u001b[0minput\u001b[0m\u001b[0;34m(\u001b[0m\u001b[0;34m\"n_max = \"\u001b[0m\u001b[0;34m)\u001b[0m\u001b[0;34m)\u001b[0m \u001b[0;31m# 0-31\u001b[0m\u001b[0;34m\u001b[0m\u001b[0;34m\u001b[0m\u001b[0m\n\u001b[1;32m     13\u001b[0m \u001b[0mn_max\u001b[0m \u001b[0;34m+=\u001b[0m \u001b[0;36m1\u001b[0m\u001b[0;34m\u001b[0m\u001b[0;34m\u001b[0m\u001b[0m\n",
      "\u001b[0;31mValueError\u001b[0m: invalid literal for int() with base 10: ''"
     ]
    }
   ],
   "source": [
    "#　データの読み込み\n",
    "# ここでdataは既存のxarray.DataArrayとします\n",
    "# 例えば、data = xr.DataArray(...)\n",
    "# ['PSD_V2_S', 'PSD_V2_SP', 'PSD_V2_Z']\n",
    "time = data_quants[\"PSD_V2_S\"]['time']\n",
    "data = data_quants[\"PSD_V2_S\"]\n",
    "\n",
    "\n",
    "# v_dim(電波強度の次元)の長さを変更\n",
    "# pytplot.option(yrange)でy軸範囲を指定できなかったので，周波数のインデックス(0-899)を取得．\n",
    "n_min = int(input(\"n_min = \"))\n",
    "n_max = int(input(\"n_max = \")) # 0-31\n",
    "n_max += 1\n",
    "data_index = data.sel(v_dim=slice(n_min, n_max))\n",
    "v_dim_slice = frequency_cut.sel(v_dim=slice(n_min, n_max))\n",
    "\n",
    "print(f'n_min = {n_min} = {min(v_dim_slice).values*1e-6} MHz\\n')\n",
    "print(f'n_max = {n_max-1} = {max(v_dim_slice).values*1e-6} MHz\\n ---------------------------------- \\n')\n",
    "\n",
    "\n",
    "# plot\n",
    "# time = data_quants[\"PSD_V2_S\"]['time'], data_index = data_quants[\"PSD_V2_S\"], v_dim_slice = data_quants[\"PSD_V2_S\"]['spec_bins']\n",
    "pytplot.store_data('Wind (Rad1) [Hz]', data={'x': time, 'y': data_index, 'v': v_dim_slice})\n",
    "pytplot.options('Wind (Rad1) [Hz]', opt_dict={'ylog': 1, 'zlog': 1, 'spec':1, 'zrange':[1e-14, 1e-12]}) # z(強度)の分解能は1\n",
    "pytplot.xlim(\"2022-06-13 03:00:10\", \"2022-06-13 06:30:00\")\n",
    "pytplot.tplot('Wind (Rad1) [Hz]')"
   ]
  },
  {
   "cell_type": "code",
   "execution_count": null,
   "metadata": {},
   "outputs": [],
   "source": []
  }
 ],
 "metadata": {
  "kernelspec": {
   "display_name": ".venv",
   "language": "python",
   "name": "python3"
  },
  "language_info": {
   "codemirror_mode": {
    "name": "ipython",
    "version": 3
   },
   "file_extension": ".py",
   "mimetype": "text/x-python",
   "name": "python",
   "nbconvert_exporter": "python",
   "pygments_lexer": "ipython3",
   "version": "3.10.12"
  }
 },
 "nbformat": 4,
 "nbformat_minor": 2
}
