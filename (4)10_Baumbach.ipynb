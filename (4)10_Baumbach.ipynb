{
 "cells": [
  {
   "cell_type": "markdown",
   "metadata": {},
   "source": [
    "密度モデル$(\\rho : r/R_s [\\rm{R_\\odot}], n_e : [\\rm{cm^{-3}}])$\n",
    "\n",
    "* $1-10R_\\odot \\rightarrow n_e(\\rho) = 10\\times10^8 \\times (2.99\\rho^{-16} + 1.55\\rho^{-6}) $ (10 $\\times$ Baumbach-Allen model[Allen, 1947])\n",
    "\n",
    "($n_e(\\rho) = 10^8 \\times (2.99\\rho^{-16} + 1.55\\rho^{-6} + 0.036r^{-\\frac{3}{2}}) $ ([Baumbach, 1938]) )\n",
    "* $10-65R_\\odot \\rightarrow n_e(\\rho) = 6.14 \\times (\\rho - 1.0)^{-2.15\\pm0.11}$ [Alverez & Haddock, 1973; Bougeret et al., 1984]\n",
    "* $65-215R_\\odot \\rightarrow n_e(\\rho) = 6.14 \\times (\\rho/215)^{-2.10}$ [Bougeret et al., 1984]\n"
   ]
  },
  {
   "cell_type": "code",
   "execution_count": 1,
   "metadata": {},
   "outputs": [],
   "source": [
    "import numpy as np\n",
    "import matplotlib.pyplot as plt\n",
    "from scipy.optimize import fsolve\n",
    "import sympy as sp\n",
    "\n",
    "# Baumbach-Allen model\n",
    "def baumbach(rho):\n",
    "    return 10*1e8*(2.99*rho**(-16) + 1.55*rho**(-6) + 0.036*rho**(-3/2))\n",
    "\n",
    "# Baumbach-Allen modelを周波数に変換\n",
    "def frequency(rho):\n",
    "    electron = 1.60217662e-19    # 電気素量：C\n",
    "    m_e = 9.10938356e-31         # 電子の質量：kg\n",
    "    epsilon_0 = 8.854187817e-12  # 真空の誘電率：F/m\n",
    "    \n",
    "    frequency_Hz =  1/(2*np.pi)* np.sqrt(electron**2/(epsilon_0*m_e))*1e3*np.sqrt(baumbach(rho))\n",
    "    frequency_MHz = frequency_Hz / 1e6\n",
    "    return frequency_MHz\n",
    "\n",
    "# # 周波数の近似式\n",
    "# def frequency(rho):\n",
    "#     frequency_Hz = 9e3*np.sqrt(baumbach_allen_model1(rho))\n",
    "#     frequency_MHz = frequency_Hz / 1e6\n",
    "#     return frequency_MHz\n",
    "\n",
    "# rho_symbol = sp.symbols('rho')\n",
    "# rhoの範囲(Baumbach-Allen modelの定義域:>1.2R, 215R = 1AU)\n",
    "rho_value = np.arange(1.2, 215, 0.01)"
   ]
  },
  {
   "cell_type": "code",
   "execution_count": 2,
   "metadata": {},
   "outputs": [
    {
     "data": {
      "text/plain": [
       "39.96581149205148"
      ]
     },
     "execution_count": 2,
     "metadata": {},
     "output_type": "execute_result"
    }
   ],
   "source": [
    "frequency(2.33)"
   ]
  },
  {
   "cell_type": "markdown",
   "metadata": {},
   "source": [
    "## $n_e$のプロット"
   ]
  },
  {
   "cell_type": "code",
   "execution_count": 3,
   "metadata": {},
   "outputs": [],
   "source": [
    "# # 電子密度neとrhoの関係をプロット\n",
    "# def plot_function_ne(rho, label):\n",
    "#     fig, ax = plt.subplots(tight_layout=True, figsize=(8,6))\n",
    "#     ax.set_yscale('log') # 片対数グラフ\n",
    "#     ax.set_xlabel(r'$\\rho [R_\\odot]$', fontsize=20) # x軸：rho[Rs]\n",
    "#     ax.set_ylabel(r\"$n_e[\\rm{cm^{-3}}]$\", fontsize=20) # y軸：ne[cm^-3]\n",
    "#     ax.plot(rho, baumbach(rho), label=label)\n",
    "    \n",
    "    \n",
    "#     # Find rho values corresponding to specific frequencies using fsolve\n",
    "#     #周波数のプロットから先に計算しました\n",
    "#     rho_40MHz = 2.07\n",
    "#     rho_15MHz = 2.87\n",
    "#     rho_300kHz = 10.57\n",
    "    \n",
    "    \n",
    "#     # Set the y-axis limits in MHz\n",
    "#     ax.set_ylim(baumbach(rho_300kHz), baumbach(rho_40MHz)) # y軸の範囲を設定. 300kHzから40MHzまで\n",
    "#     ax.set_xlim(1.2, rho_300kHz+0.5) # x軸の範囲を設定. 40MHzから300kHz+0.5まで\n",
    "#     ax.grid()\n",
    "#     ax.axhline(y=baumbach(rho_15MHz), color='gray', linestyle='--', linewidth=0.8)\n",
    "#     ax.axvline(x=rho_40MHz, color='gray', linestyle='--', linewidth=0.8)\n",
    "#     ax.axvline(x=rho_15MHz, color='gray', linestyle='--', linewidth=0.8)\n",
    "\n",
    "    \n",
    "    # # Plot the text on the graph\n",
    "    # # 40MHzに対応する電子密度\n",
    "    # ax.text(rho_40MHz-3.0, baumbach(rho_40MHz), f'{baumbach(rho_40MHz):.2e}', fontsize=18)\n",
    "    # ax.text(rho_40MHz-3.0, baumbach(rho_40MHz)-7e6, r'$(40\\,\\rm{MHz})$', fontsize=18)\n",
    "    # # 15MHzに対応する電子密度\n",
    "    # ax.text(rho_40MHz-3.0, baumbach(rho_15MHz), f'{baumbach(rho_15MHz):.2e}', fontsize=18)\n",
    "    # ax.text(rho_40MHz-3.0, baumbach(rho_15MHz)-1.2e6, r'$(15\\,\\rm{MHz})$', fontsize=18)\n",
    "    # # 300kHzに対応する電子密度\n",
    "    # ax.text(rho_40MHz-3.0, baumbach(rho_300kHz), f'{baumbach(rho_40MHz):.2e}', fontsize=18)\n",
    "    # ax.text(rho_40MHz-3.0, baumbach(rho_300kHz)-4e2, r'$(300\\,\\rm{kHz})$', fontsize=18)\n",
    "    # # 最小のrho\n",
    "    # ax.text(1.1, baumbach(rho_300kHz)-3.8e2, r'$1.20$', fontsize=18)    \n",
    "    \n",
    "    \n",
    "    # # Plot points on the graph\n",
    "    # # 40MHz，15MHz，300kHzの電子密度をプロット\n",
    "    # ax.scatter([rho_40MHz, rho_15MHz, rho_300kHz], \n",
    "    #            [baumbach(rho_40MHz), baumbach(rho_15MHz), baumbach(rho_300kHz)], \n",
    "    #            color='red', marker='o', label='Specific Frequencies')\n",
    "    \n",
    "    # # Plot the text on the graph for rho values\n",
    "    # #40MHzに対応するrhoの値をプロット\n",
    "    # ax.text(rho_40MHz, baumbach(rho_300kHz)-0.7e3, f'{rho_40MHz:.2f}', fontsize=18, color='red')\n",
    "    # # 矢印を描画\n",
    "    # ax.annotate('',\n",
    "    #             xy=(rho_40MHz, baumbach(rho_300kHz)), xycoords='data',\n",
    "    #             xytext=(rho_40MHz+0.3, baumbach(rho_300kHz)-0.5e3), textcoords='data',\n",
    "    #             arrowprops=dict(arrowstyle='->', connectionstyle='arc3', color='red')\n",
    "    #             )\n",
    "    # # 15MHzに対応するrhoの値をプロット\n",
    "    # ax.text(rho_15MHz-0.3, baumbach(rho_300kHz)-0.4e3, f'{rho_15MHz:.2f}', fontsize=18, color='red')\n",
    "    # # 300kHzに対応するrhoの値をプロット\n",
    "    # ax.text(rho_300kHz-0.3, baumbach(rho_300kHz)-0.4e3, f'{rho_300kHz:.2f}', fontsize=18, color='red')\n",
    "    # ax.legend(loc='best', fontsize=18)"
   ]
  },
  {
   "cell_type": "code",
   "execution_count": 4,
   "metadata": {},
   "outputs": [],
   "source": [
    "# # 電子密度の関数をプロット\n",
    "# plot_function_ne(rho_value, r'Baumbach 1938')\n",
    "# plt.show()"
   ]
  },
  {
   "cell_type": "markdown",
   "metadata": {},
   "source": [
    "## $f_p$のプロット"
   ]
  },
  {
   "cell_type": "code",
   "execution_count": null,
   "metadata": {},
   "outputs": [],
   "source": []
  },
  {
   "cell_type": "code",
   "execution_count": 5,
   "metadata": {},
   "outputs": [],
   "source": [
    "# 周波数とrhoの関係をプロット\n",
    "def plot_function_frequency(rho, function, label):\n",
    "    fig, ax = plt.subplots(tight_layout=True, figsize=(8,6))\n",
    "    ax.set_yscale('log') # 片対数グラフ\n",
    "    ax.set_xlabel(r'$\\rho [R_\\odot]$', fontsize=20)\n",
    "    ax.set_ylabel(r\"Frequency [MHz]\", fontsize=20)\n",
    "    ax.plot(rho, function, label=label, color='red', linewidth=0.5)\n",
    "    \n",
    "    # Find rho values corresponding to specific frequencies using fsolve\n",
    "    rho_40MHz = fsolve(lambda rho: frequency(rho) - 40, x0=1.2)[0] # x0 is the initial guess for rho value \n",
    "    rho_15MHz = fsolve(lambda rho: frequency(rho) - 15, x0=1.2)[0]\n",
    "    rho_14MHz = fsolve(lambda rho: frequency(rho) - 14, x0=1.2)[0]\n",
    "    rho_300kHz = fsolve(lambda rho: frequency(rho) - 0.3, x0=1.2)[0]\n",
    "    \n",
    "    \n",
    "    # Set the y-axis limits in MHz\n",
    "    ax.set_ylim(300e3/1e6, 4e7/1e6)\n",
    "#     ax.set_xlim(1.2, rho_300kHz+0.5)\n",
    "    ax.set_xlim(1.2, 215)\n",
    "    ax.grid()\n",
    "    ax.axhline(y=15e6/1e6, color='blue', linestyle='--', linewidth=0.8)\n",
    "    ax.axhline(y=14e6/1e6, color='orange', linestyle='--', linewidth=0.8)\n",
    "    ax.axvline(x=rho_40MHz, color='gray', linestyle='--', linewidth=0.8)\n",
    "    ax.axvline(x=rho_15MHz, color='blue', linestyle='--', linewidth=0.8)\n",
    "    ax.axvline(x=rho_14MHz, color='orange', linestyle='--', linewidth=0.8)\n",
    "    # ax.axvline(x=rho_300kHz, color='gray', linestyle='--', linewidth=0.8)\n",
    "    \n",
    "\n",
    "    # Plot the text on the graph\n",
    "    ax.text(rho_40MHz-2.5, 40e6/1e6, r'$40\\,\\rm{MHz}$', fontsize=18, color='green')\n",
    "    ax.text(rho_40MHz+10, 16e6/1e6, r'$15\\,\\rm{MHz}$', fontsize=18, color='blue')\n",
    "    ax.text(rho_40MHz+10, 10e6/1e6, r'$14\\,\\rm{MHz}$', fontsize=18, color='orange')\n",
    "    # ax.text(rho_40MHz-40, 3e5/1e6, r'$300\\,\\rm{kHz}$', fontsize=18, color='red')\n",
    "    ax.text(1.2, 3e5/1e6-0.5e5/1e6, r'$1.20$', fontsize=10)\n",
    "    \n",
    "    \n",
    "    # Plot points on the graph\n",
    "    ax.scatter([rho_40MHz, rho_15MHz, rho_14MHz, rho_300kHz], [40, 15,14,  0.3], color=['green', 'blue', 'orange', 'red'], marker='o')\n",
    "    \n",
    "    # Plot the text on the graph for rho values\n",
    "    ax.text(rho_40MHz, 1.5e5/1e6, f'{rho_40MHz:.2f}', fontsize=18, color='green')\n",
    "    # 矢印を描画\n",
    "    ax.annotate('',\n",
    "                xy=(rho_40MHz, 300e3/1e6), xycoords='data',\n",
    "                xytext=(rho_40MHz+0.35, 1.8e5/1e6), textcoords='data',\n",
    "                arrowprops=dict(arrowstyle='->', connectionstyle='arc3', color='green'),\n",
    "                )\n",
    "    ax.text(rho_15MHz-0.4, 2e5/1e6, f'{rho_15MHz:.2f}', fontsize=18, color='blue')\n",
    "    ax.text(rho_14MHz, 3.6e5/1e6, f'{rho_14MHz:.2f}', fontsize=18, color='orange')\n",
    "    ax.annotate('',\n",
    "            xy=(rho_14MHz, 300e3/1e6), xycoords='data',\n",
    "            xytext=(rho_14MHz+0.3, 3.5e5/1e6), textcoords='data',\n",
    "            arrowprops=dict(arrowstyle='->', connectionstyle='arc3', color='orange'),\n",
    "            )\n",
    "    # ax.text(rho_300kHz-0.4, 2.4e5/1e6, f'{rho_300kHz:.2f}', fontsize=18, color='red')\n",
    "    ax.legend(loc='best', fontsize=18)"
   ]
  },
  {
   "cell_type": "code",
   "execution_count": 6,
   "metadata": {},
   "outputs": [
    {
     "data": {
      "image/png": "[encoded data removed]",
      "text/plain": [
       "<Figure size 576x432 with 1 Axes>"
      ]
     },
     "metadata": {
      "needs_background": "light"
     },
     "output_type": "display_data"
    }
   ],
   "source": [
    "plot_function_frequency(rho_value, frequency(rho_value), r'10 $\\times$ Baumbach 1938')\n",
    "plt.show()"
   ]
  },
  {
   "cell_type": "code",
   "execution_count": null,
   "metadata": {},
   "outputs": [],
   "source": []
  },
  {
   "cell_type": "markdown",
   "metadata": {},
   "source": [
    "## $\\Delta v$の計算"
   ]
  },
  {
   "cell_type": "markdown",
   "metadata": {},
   "source": [
    "読み取りmemo\n",
    "\n",
    "2022年6月13日\n",
    "\n",
    "- HF帯アンテナ\n",
    "\n",
    "HF帯開始周波数：30MHz + 0.6(定規)　(＠03:24:20)\n",
    "\n",
    "HF帯終了周波数：20MHz + 0.75(定規)　(＠03:33:00)\n",
    "\n",
    "$\\Delta t = $ 8min 40s = 520s\n",
    "\n",
    "- Wind\n",
    "\n",
    "Wind開始周波数：14MHz(＠03:31:00)\n",
    "\n",
    "Wind終了周波数：1.8MHz(＠06:03:00)\n",
    "\n",
    "$\\Delta t = $ 2h 32min = 9120s"
   ]
  },
  {
   "cell_type": "code",
   "execution_count": null,
   "metadata": {},
   "outputs": [],
   "source": []
  },
  {
   "cell_type": "code",
   "execution_count": null,
   "metadata": {},
   "outputs": [
    {
     "name": "stdout",
     "output_type": "stream",
     "text": [
      "◎Enter the start frequency in MHz: \n",
      "f_start=18.0 MHz\n",
      "rho_start =\n",
      "rho_18.0MHz = 2.70\n",
      "\n",
      "\n",
      "\n",
      " ◎Enter the end frequency in MHz: \n",
      "f_end=12.5 MHz\n",
      "rho_end =\n",
      "rho_12.5MHz = 3.05\n",
      "\n",
      "\n",
      "delta_rho = 0.35 R_\\odot \n",
      "\n",
      "\n",
      " delta_f = -5.50 MHz\n",
      "◎Enter the value of delta_t: \n",
      "delta_t = 700.0 s\n",
      "delta_v = 0.0004980920664890259R_\\odot /s = 346.672078276362 km/s\n",
      "dfdt = -0.007857142857142858 MHz/s\n",
      "v_b/1150= 0.30145398110988003\n",
      "1-220/v_b= 0.36539452183795673\n"
     ]
    }
   ],
   "source": [
    "import numpy as np\n",
    "\n",
    "# rho_nMHz : n MHzに対応するrhoの値を求める関数\n",
    "def rho_nMHz(n):\n",
    "    rho_nMHz_value = fsolve(lambda rho_value: frequency(rho_value) - n, x0=1.2)[0]\n",
    "    print(f'rho_{n}MHz = {rho_nMHz_value:.2f}')\n",
    "    return rho_nMHz_value\n",
    "\n",
    "\n",
    "\n",
    "\n",
    "### start\n",
    "# ダイナミックスペクトルを目分量で見て、startとendの周波数を決め，その周波数と時間に対応するrhoを求める\n",
    "print('◎Enter the start frequency in MHz: ') # n × 10^7 Hz = n*10 MHz の部分．例：40 MHz -> 40\n",
    "f_start = float(input())\n",
    "print('f_start=' + str(f_start) + ' MHz')  # Convert f_start to a string using str()\n",
    "\n",
    "\n",
    "# rho_start：start_frequencyに対応するrhoの値\n",
    "print('rho_start =')\n",
    "rho_start = rho_nMHz(f_start)\n",
    "\n",
    "print('\\n')\n",
    "\n",
    "\n",
    "\n",
    "\n",
    "\n",
    "### end\n",
    "# startと同様にendの周波数と時間に対応するrhoを求める\n",
    "print('\\n ◎Enter the end frequency in MHz: ')\n",
    "f_end = float(input())\n",
    "print('f_end=' + str(f_end) + ' MHz')  # Convert f_start to a string using str()\n",
    "\n",
    "print('rho_end =')\n",
    "rho_end = rho_nMHz(f_end)\n",
    "\n",
    "\n",
    "print('\\n')\n",
    "\n",
    "# delta_rho : startとendのrhoの差\n",
    "delta_rho = rho_end - rho_start\n",
    "print(f'delta_rho = {delta_rho:.2f} R_\\odot \\n')\n",
    "\n",
    "\n",
    "\n",
    "### delta_vを求める\n",
    "# delta_f : startとendの周波数の差\n",
    "delta_f = f_end - f_start\n",
    "print(f'delta_f = {delta_f:.2f} MHz\\n')\n",
    "\n",
    "# delta_t : startとendの時間の差(目分量)\n",
    "print('◎Enter the value of delta_t: ')\n",
    "delta_t = float(input())\n",
    "print(f'delta_t = {delta_t} s')\n",
    "\n",
    "# dfdt : バースト源のドリフトレート[MHz/s]\n",
    "dfdt = delta_f / delta_t\n",
    "print('dfdt = ' + str(dfdt) + ' MHz/s')\n",
    "\n",
    "# delta_v_R : バースト源の速度[R_sun/s]\n",
    "delta_v_R = delta_rho / delta_t # R_\\odot/s\n",
    "R_sun = 696000 # km # 太陽半径 696,000 km\n",
    "# delta_v_kms : バースト源の速度[km/s]\n",
    "delta_v_kms = delta_v_R * R_sun # km/s 太陽半径：696,000 km\n",
    "print('delta_v = ' + str(delta_v_R) + 'R_\\odot /s = ' + str(delta_v_kms) + ' km/s')\n",
    "\n",
    "print('v_b/1150=', delta_v_kms/1150)\n",
    "print('1-220/v_b=', 1-220/delta_v_kms)"
   ]
  },
  {
   "cell_type": "code",
   "execution_count": null,
   "metadata": {},
   "outputs": [],
   "source": []
  }
 ],
 "metadata": {
  "kernelspec": {
   "display_name": "Python 3",
   "language": "python",
   "name": "python3"
  },
  "language_info": {
   "codemirror_mode": {
    "name": "ipython",
    "version": 3
   },
   "file_extension": ".py",
   "mimetype": "text/x-python",
   "name": "python",
   "nbconvert_exporter": "python",
   "pygments_lexer": "ipython3",
   "version": "3.10.12"
  }
 },
 "nbformat": 4,
 "nbformat_minor": 2
}
